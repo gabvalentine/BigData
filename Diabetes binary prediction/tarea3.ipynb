{
  "nbformat": 4,
  "nbformat_minor": 0,
  "metadata": {
    "colab": {
      "provenance": []
    },
    "kernelspec": {
      "name": "python3",
      "display_name": "Python 3"
    },
    "language_info": {
      "name": "python"
    }
  },
  "cells": [
    {
      "cell_type": "code",
      "source": [
        "import findspark\n",
        "findspark.init()\n",
        "\n",
        "import pyspark\n",
        "\n",
        "from pyspark.sql import functions as f\n",
        "from pyspark.sql import SparkSession\n",
        "from pyspark.sql.types import (StringType, IntegerType, FloatType,\n",
        "                               DecimalType, StructField, StructType)\n",
        "\n",
        "\n",
        "# Crear una sesión de Spark\n",
        "spark = SparkSession.builder.appName(\"tarea3\")\\\n",
        "                            .config(\"spark.driver.extraClassPath\", \"postgresql-42.2.14.jar\") \\\n",
        "                            .config(\"spark.executor.extraClassPath\", \"postgresql-42.2.14.jar\") \\\n",
        "                            .getOrCreate()\n",
        "\n",
        "\n",
        "data = spark.read.format(\"csv\") \\\n",
        "               .option(\"path\", \"Diabetes Binary Classification.csv\") \\\n",
        "               .option(\"header\", True) \\\n",
        "               .option(\"inferSchema\", True) \\\n",
        "               .load()\n",
        "\n",
        "\n",
        "\n"
      ],
      "metadata": {
        "id": "G44dnwnNNVCb"
      },
      "execution_count": null,
      "outputs": []
    },
    {
      "cell_type": "code",
      "source": [
        "# Mostrar el esquema de los datos\n",
        "data.printSchema()\n",
        "\n",
        "# Visualizar las primeras filas de los datos\n",
        "data.show()\n"
      ],
      "metadata": {
        "colab": {
          "base_uri": "https://localhost:8080/"
        },
        "id": "ysEqBdX4K99k",
        "outputId": "8fcf2d9d-2f4a-47eb-d7e4-b72114e4e170"
      },
      "execution_count": null,
      "outputs": [
        {
          "output_type": "stream",
          "name": "stdout",
          "text": [
            "root\n",
            " |-- Number of times pregnant: integer (nullable = true)\n",
            " |-- Plasma glucose concentration a 2 hours in an oral glucose tolerance test: integer (nullable = true)\n",
            " |-- Diastolic blood pressure (mm Hg): integer (nullable = true)\n",
            " |-- Triceps skin fold thickness (mm): integer (nullable = true)\n",
            " |-- 2-Hour serum insulin (mu U/ml): integer (nullable = true)\n",
            " |-- Body mass index (weight in kg/(height in m)^2): double (nullable = true)\n",
            " |-- Diabetes pedigree function: double (nullable = true)\n",
            " |-- Age (years): integer (nullable = true)\n",
            " |-- Class variable (0 or 1): integer (nullable = true)\n",
            "\n",
            "+------------------------+------------------------------------------------------------------------+--------------------------------+--------------------------------+------------------------------+----------------------------------------------+--------------------------+-----------+-----------------------+\n",
            "|Number of times pregnant|Plasma glucose concentration a 2 hours in an oral glucose tolerance test|Diastolic blood pressure (mm Hg)|Triceps skin fold thickness (mm)|2-Hour serum insulin (mu U/ml)|Body mass index (weight in kg/(height in m)^2)|Diabetes pedigree function|Age (years)|Class variable (0 or 1)|\n",
            "+------------------------+------------------------------------------------------------------------+--------------------------------+--------------------------------+------------------------------+----------------------------------------------+--------------------------+-----------+-----------------------+\n",
            "|                       6|                                                                     148|                              72|                              35|                             0|                                          33.6|                     0.627|         50|                      1|\n",
            "|                       1|                                                                      85|                              66|                              29|                             0|                                          26.6|                     0.351|         31|                      0|\n",
            "|                       8|                                                                     183|                              64|                               0|                             0|                                          23.3|                     0.672|         32|                      1|\n",
            "|                       1|                                                                      89|                              66|                              23|                            94|                                          28.1|                     0.167|         21|                      0|\n",
            "|                       0|                                                                     137|                              40|                              35|                           168|                                          43.1|                     2.288|         33|                      1|\n",
            "|                       5|                                                                     116|                              74|                               0|                             0|                                          25.6|                     0.201|         30|                      0|\n",
            "|                       3|                                                                      78|                              50|                              32|                            88|                                          31.0|                     0.248|         26|                      1|\n",
            "|                      10|                                                                     115|                               0|                               0|                             0|                                          35.3|                     0.134|         29|                      0|\n",
            "|                       2|                                                                     197|                              70|                              45|                           543|                                          30.5|                     0.158|         53|                      1|\n",
            "|                       8|                                                                     125|                              96|                               0|                             0|                                           0.0|                     0.232|         54|                      1|\n",
            "|                       4|                                                                     110|                              92|                               0|                             0|                                          37.6|                     0.191|         30|                      0|\n",
            "|                      10|                                                                     168|                              74|                               0|                             0|                                          38.0|                     0.537|         34|                      1|\n",
            "|                      10|                                                                     139|                              80|                               0|                             0|                                          27.1|                     1.441|         57|                      0|\n",
            "|                       1|                                                                     189|                              60|                              23|                           846|                                          30.1|                     0.398|         59|                      1|\n",
            "|                       5|                                                                     166|                              72|                              19|                           175|                                          25.8|                     0.587|         51|                      1|\n",
            "|                       7|                                                                     100|                               0|                               0|                             0|                                          30.0|                     0.484|         32|                      1|\n",
            "|                       0|                                                                     118|                              84|                              47|                           230|                                          45.8|                     0.551|         31|                      1|\n",
            "|                       7|                                                                     107|                              74|                               0|                             0|                                          29.6|                     0.254|         31|                      1|\n",
            "|                       1|                                                                     103|                              30|                              38|                            83|                                          43.3|                     0.183|         33|                      0|\n",
            "|                       1|                                                                     115|                              70|                              30|                            96|                                          34.6|                     0.529|         32|                      1|\n",
            "+------------------------+------------------------------------------------------------------------+--------------------------------+--------------------------------+------------------------------+----------------------------------------------+--------------------------+-----------+-----------------------+\n",
            "only showing top 20 rows\n",
            "\n"
          ]
        }
      ]
    },
    {
      "cell_type": "code",
      "source": [
        "#cambio el nombre de los atributos\n",
        "df = data \\\n",
        "    .withColumnRenamed(\"Number of times pregnant\", \"X1\") \\\n",
        "    .withColumnRenamed(\"Plasma glucose concentration a 2 hours in an oral glucose tolerance test\", \"X2\") \\\n",
        "    .withColumnRenamed(\"Diastolic blood pressure (mm Hg)\", \"X3\") \\\n",
        "    .withColumnRenamed(\"Triceps skin fold thickness (mm)\", \"X4\") \\\n",
        "    .withColumnRenamed(\"2-Hour serum insulin (mu U/ml)\", \"X5\") \\\n",
        "    .withColumnRenamed(\"Body mass index (weight in kg/(height in m)^2)\", \"X6\") \\\n",
        "    .withColumnRenamed(\"Diabetes pedigree function\", \"X7\") \\\n",
        "    .withColumnRenamed(\"Age (years)\", \"X8\") \\\n",
        "    .withColumnRenamed(\"Class variable (0 or 1)\", \"Y\")\n",
        "\n",
        "#nuevo esquema\n",
        "df.printSchema()\n",
        "\n",
        "#primeras filas del dataframe\n",
        "df.show()\n"
      ],
      "metadata": {
        "colab": {
          "base_uri": "https://localhost:8080/"
        },
        "id": "OMfjFwebQ2gK",
        "outputId": "c4d3d3c4-cdca-430b-d15f-b983d4ec18f6"
      },
      "execution_count": null,
      "outputs": [
        {
          "output_type": "stream",
          "name": "stdout",
          "text": [
            "root\n",
            " |-- X1: integer (nullable = true)\n",
            " |-- X2: integer (nullable = true)\n",
            " |-- X3: integer (nullable = true)\n",
            " |-- X4: integer (nullable = true)\n",
            " |-- X5: integer (nullable = true)\n",
            " |-- X6: double (nullable = true)\n",
            " |-- X7: double (nullable = true)\n",
            " |-- X8: integer (nullable = true)\n",
            " |-- Y: integer (nullable = true)\n",
            "\n",
            "+---+---+---+---+---+----+-----+---+---+\n",
            "| X1| X2| X3| X4| X5|  X6|   X7| X8|  Y|\n",
            "+---+---+---+---+---+----+-----+---+---+\n",
            "|  6|148| 72| 35|  0|33.6|0.627| 50|  1|\n",
            "|  1| 85| 66| 29|  0|26.6|0.351| 31|  0|\n",
            "|  8|183| 64|  0|  0|23.3|0.672| 32|  1|\n",
            "|  1| 89| 66| 23| 94|28.1|0.167| 21|  0|\n",
            "|  0|137| 40| 35|168|43.1|2.288| 33|  1|\n",
            "|  5|116| 74|  0|  0|25.6|0.201| 30|  0|\n",
            "|  3| 78| 50| 32| 88|31.0|0.248| 26|  1|\n",
            "| 10|115|  0|  0|  0|35.3|0.134| 29|  0|\n",
            "|  2|197| 70| 45|543|30.5|0.158| 53|  1|\n",
            "|  8|125| 96|  0|  0| 0.0|0.232| 54|  1|\n",
            "|  4|110| 92|  0|  0|37.6|0.191| 30|  0|\n",
            "| 10|168| 74|  0|  0|38.0|0.537| 34|  1|\n",
            "| 10|139| 80|  0|  0|27.1|1.441| 57|  0|\n",
            "|  1|189| 60| 23|846|30.1|0.398| 59|  1|\n",
            "|  5|166| 72| 19|175|25.8|0.587| 51|  1|\n",
            "|  7|100|  0|  0|  0|30.0|0.484| 32|  1|\n",
            "|  0|118| 84| 47|230|45.8|0.551| 31|  1|\n",
            "|  7|107| 74|  0|  0|29.6|0.254| 31|  1|\n",
            "|  1|103| 30| 38| 83|43.3|0.183| 33|  0|\n",
            "|  1|115| 70| 30| 96|34.6|0.529| 32|  1|\n",
            "+---+---+---+---+---+----+-----+---+---+\n",
            "only showing top 20 rows\n",
            "\n"
          ]
        }
      ]
    },
    {
      "cell_type": "code",
      "source": [
        "from pyspark.ml.feature import VectorAssembler\n",
        "\n",
        "#crear un solo vector de features\n",
        "assembler = VectorAssembler(inputCols=df.columns[:-1], outputCol=\"features\")\n",
        "assembled_df = assembler.transform(df)\n",
        "\n",
        "vector_df = assembled_df.select(['features','Y'])\n",
        "\n",
        "vector_df.show()\n",
        "\n"
      ],
      "metadata": {
        "colab": {
          "base_uri": "https://localhost:8080/"
        },
        "id": "N0xyibzOTTqI",
        "outputId": "9ca65652-5f00-4385-8b4b-7e91eb7df668"
      },
      "execution_count": null,
      "outputs": [
        {
          "output_type": "stream",
          "name": "stdout",
          "text": [
            "+--------------------+---+\n",
            "|            features|  Y|\n",
            "+--------------------+---+\n",
            "|[6.0,148.0,72.0,3...|  1|\n",
            "|[1.0,85.0,66.0,29...|  0|\n",
            "|[8.0,183.0,64.0,0...|  1|\n",
            "|[1.0,89.0,66.0,23...|  0|\n",
            "|[0.0,137.0,40.0,3...|  1|\n",
            "|[5.0,116.0,74.0,0...|  0|\n",
            "|[3.0,78.0,50.0,32...|  1|\n",
            "|[10.0,115.0,0.0,0...|  0|\n",
            "|[2.0,197.0,70.0,4...|  1|\n",
            "|[8.0,125.0,96.0,0...|  1|\n",
            "|[4.0,110.0,92.0,0...|  0|\n",
            "|[10.0,168.0,74.0,...|  1|\n",
            "|[10.0,139.0,80.0,...|  0|\n",
            "|[1.0,189.0,60.0,2...|  1|\n",
            "|[5.0,166.0,72.0,1...|  1|\n",
            "|[7.0,100.0,0.0,0....|  1|\n",
            "|[0.0,118.0,84.0,4...|  1|\n",
            "|[7.0,107.0,74.0,0...|  1|\n",
            "|[1.0,103.0,30.0,3...|  0|\n",
            "|[1.0,115.0,70.0,3...|  1|\n",
            "+--------------------+---+\n",
            "only showing top 20 rows\n",
            "\n"
          ]
        }
      ]
    },
    {
      "cell_type": "code",
      "source": [
        "# Con la representación de vectores podemos calcular correlaciones\n",
        "from pyspark.ml.stat import Correlation\n",
        "import seaborn as sns\n",
        "import matplotlib.pyplot as plt\n",
        "\n",
        "pearson_matrix = Correlation.corr(vector_df, 'features').collect()[0][0]\n",
        "\n",
        "sns.heatmap(pearson_matrix.toArray(), annot=True, fmt=\".2f\", cmap='viridis')"
      ],
      "metadata": {
        "colab": {
          "base_uri": "https://localhost:8080/",
          "height": 452
        },
        "id": "4EnDqmzxsW48",
        "outputId": "5a0c16e5-5e78-46b8-fc5e-6ef24529548d"
      },
      "execution_count": null,
      "outputs": [
        {
          "output_type": "execute_result",
          "data": {
            "text/plain": [
              "<Axes: >"
            ]
          },
          "metadata": {},
          "execution_count": 41
        },
        {
          "output_type": "display_data",
          "data": {
            "text/plain": [
              "<Figure size 640x480 with 2 Axes>"
            ],
            "image/png": "[encoded data removed]"
          },
          "metadata": {}
        }
      ]
    },
    {
      "cell_type": "code",
      "source": [
        "from pyspark.ml.feature import StandardScaler\n",
        "\n",
        "standard_scaler = StandardScaler(inputCol='features', outputCol='scaled_features')\n",
        "scale_model = standard_scaler.fit(vector_df)\n",
        "\n",
        "scaled_df = scale_model.transform(vector_df)\n",
        "scaled_df.show()"
      ],
      "metadata": {
        "colab": {
          "base_uri": "https://localhost:8080/"
        },
        "id": "uIhLoFahtWmN",
        "outputId": "fd9c5bd0-710d-4897-ee70-ca5ca348b09a"
      },
      "execution_count": null,
      "outputs": [
        {
          "output_type": "stream",
          "name": "stdout",
          "text": [
            "+--------------------+---+--------------------+\n",
            "|            features|  Y|     scaled_features|\n",
            "+--------------------+---+--------------------+\n",
            "|[6.0,148.0,72.0,3...|  1|[1.78063837321943...|\n",
            "|[1.0,85.0,66.0,29...|  0|[0.29677306220323...|\n",
            "|[8.0,183.0,64.0,0...|  1|[2.37418449762590...|\n",
            "|[1.0,89.0,66.0,23...|  0|[0.29677306220323...|\n",
            "|[0.0,137.0,40.0,3...|  1|[0.0,4.2849165233...|\n",
            "|[5.0,116.0,74.0,0...|  0|[1.48386531101619...|\n",
            "|[3.0,78.0,50.0,32...|  1|[0.89031918660971...|\n",
            "|[10.0,115.0,0.0,0...|  0|[2.96773062203238...|\n",
            "|[2.0,197.0,70.0,4...|  1|[0.59354612440647...|\n",
            "|[8.0,125.0,96.0,0...|  1|[2.37418449762590...|\n",
            "|[4.0,110.0,92.0,0...|  0|[1.18709224881295...|\n",
            "|[10.0,168.0,74.0,...|  1|[2.96773062203238...|\n",
            "|[10.0,139.0,80.0,...|  0|[2.96773062203238...|\n",
            "|[1.0,189.0,60.0,2...|  1|[0.29677306220323...|\n",
            "|[5.0,166.0,72.0,1...|  1|[1.48386531101619...|\n",
            "|[7.0,100.0,0.0,0....|  1|[2.07741143542266...|\n",
            "|[0.0,118.0,84.0,4...|  1|[0.0,3.6906580274...|\n",
            "|[7.0,107.0,74.0,0...|  1|[2.07741143542266...|\n",
            "|[1.0,103.0,30.0,3...|  0|[0.29677306220323...|\n",
            "|[1.0,115.0,70.0,3...|  1|[0.29677306220323...|\n",
            "+--------------------+---+--------------------+\n",
            "only showing top 20 rows\n",
            "\n"
          ]
        }
      ]
    },
    {
      "cell_type": "markdown",
      "source": [
        "Guardar y leer desde postgres"
      ],
      "metadata": {
        "id": "EYkrQR7c0tBf"
      }
    },
    {
      "cell_type": "code",
      "source": [
        "# Almacenar el conjunto de datos limpio en la base de datos\n",
        "\n",
        "df \\\n",
        "    .write \\\n",
        "    .format(\"jdbc\") \\\n",
        "    .mode('overwrite') \\\n",
        "    .option(\"url\", \"jdbc:postgresql://host.docker.internal:5433/postgres\") \\\n",
        "    .option(\"user\", \"postgres\") \\\n",
        "    .option(\"password\", \"testPassword\") \\\n",
        "    .option(\"dbtable\", \"tarea3\") \\\n",
        "    .save()"
      ],
      "metadata": {
        "id": "ZXovOdb4t4bH"
      },
      "execution_count": null,
      "outputs": []
    },
    {
      "cell_type": "code",
      "source": [
        "# Cargar el conjunto de datos. Esta vez desde la base de datos\n",
        "\n",
        "# Reading single DataFrame in Spark by retrieving all rows from a DB table.\n",
        "scaled_df = spark \\\n",
        "    .read \\\n",
        "    .format(\"jdbc\") \\\n",
        "    .option(\"url\", \"jdbc:postgresql://host.docker.internal:5433/postgres\") \\\n",
        "    .option(\"user\", \"postgres\") \\\n",
        "    .option(\"password\", \"testPassword\") \\\n",
        "    .option(\"dbtable\", \"tarea3\") \\\n",
        "    .load()\n",
        "df.show()"
      ],
      "metadata": {
        "id": "FKHs_6DsuSJ_"
      },
      "execution_count": null,
      "outputs": []
    },
    {
      "cell_type": "markdown",
      "source": [
        "Clasificacion binaria"
      ],
      "metadata": {
        "id": "FouO9M23osRV"
      }
    },
    {
      "cell_type": "markdown",
      "source": [
        "Modelo 1. Logistic regression"
      ],
      "metadata": {
        "id": "0zU9vZLT2SSs"
      }
    },
    {
      "cell_type": "code",
      "source": [
        "from pyspark.ml.classification import LogisticRegression\n",
        "from pyspark.ml.evaluation import BinaryClassificationEvaluator\n",
        "from pyspark.ml.tuning import ParamGridBuilder, CrossValidator\n",
        "\n",
        "\n",
        "# entrenamiento y validación final (80% para entrenamiento, 20% para validación final)\n",
        "(train_df, validation_final_df) = scaled_df.randomSplit([0.8, 0.2], seed=42)\n",
        "\n",
        "#modelo\n",
        "model_lr = LogisticRegression(featuresCol=\"scaled_features\", labelCol=\"Y\")\n",
        "\n",
        "#cuadrícula de parámetros para el grid search en k-fold cross-validation\n",
        "param_grid = ParamGridBuilder().build()\n",
        "\n",
        "# evaluador para la métrica\n",
        "evaluator = BinaryClassificationEvaluator(labelCol=\"Y\", metricName=\"areaUnderROC\")\n",
        "\n",
        "# k-fold cross-validation\n",
        "crossval = CrossValidator(estimator=model_lr,\n",
        "                          estimatorParamMaps=param_grid,\n",
        "                          evaluator=evaluator,\n",
        "                          numFolds=5)  # Puedes ajustar el número de folds según tus preferencias\n",
        "\n",
        "#entrenamiento\n",
        "model_lr_cv = crossval.fit(train_df)\n",
        "\n",
        "#predicciones\n",
        "predictions = model_lr_cv.transform(validation_final_df)\n",
        "\n",
        "# Calcular el AUC para el primer modelo\n",
        "auc_model1 = evaluator.evaluate(predictions)\n",
        "\n",
        "# Imprimir los resultados\n",
        "print(f\"AUC para Modelo 1: {auc_model1}\")\n",
        "\n",
        "\n",
        "\n",
        "#resultados en la base de datos\n",
        "predictions.select(\"features\", \"scaled_features\", \"Y\", \"prediction\").write.jdbc(url=\"jdbc:postgresql://localhost:5432/postgres\", table=\"modelo1\", mode=\"overwrite\", properties={\"user\": \"postgres\", \"password\": \"testPassword\"})"
      ],
      "metadata": {
        "colab": {
          "base_uri": "https://localhost:8080/"
        },
        "id": "NLl0NuN_1gNz",
        "outputId": "9fa48a12-c195-4b54-ddcb-06b472613f49"
      },
      "execution_count": null,
      "outputs": [
        {
          "output_type": "stream",
          "name": "stdout",
          "text": [
            "AUC para Modelo 1: 0.8840048840048842\n"
          ]
        }
      ]
    },
    {
      "cell_type": "markdown",
      "source": [
        "Modelo 2. RandomForestClassifier"
      ],
      "metadata": {
        "id": "Yh-Cj-OF2Usd"
      }
    },
    {
      "cell_type": "code",
      "source": [
        "from pyspark.ml.classification import RandomForestClassifier\n",
        "\n",
        "# modelo\n",
        "model_rf = RandomForestClassifier(featuresCol=\"scaled_features\", labelCol=\"Y\", numTrees=100)\n",
        "\n",
        "evaluator_rf = BinaryClassificationEvaluator(labelCol=\"Y\", metricName=\"areaUnderROC\")\n",
        "\n",
        "#k-fold cross-validation\n",
        "crossval_rf = CrossValidator(estimator=model_rf,\n",
        "                              estimatorParamMaps=param_grid,\n",
        "                              evaluator=evaluator_rf,\n",
        "                              numFolds=5)\n",
        "\n",
        "#entrenamiento\n",
        "model_rf_cv = crossval_rf.fit(train_df)\n",
        "\n",
        "#predicciones en el conjunto de validación final\n",
        "predictions_rf = model_rf_cv.transform(validation_final_df)\n",
        "\n",
        "# Calcular el AUC para el segundo modelo\n",
        "auc_model2 = evaluator_rf.evaluate(predictions_rf)\n",
        "\n",
        "print(f\"AUC para Modelo 2: {auc_model2}\")\n",
        "\n",
        "#resultados en la base de datos\n",
        "predictions_rf.select(\"features\", \"scaled_features\", \"Y\", \"prediction\").write.jdbc(url=\"jdbc:postgresql://localhost:5432/postgres\", table=\"modelo2\", mode=\"overwrite\", properties={\"user\": \"postgres\", \"password\": \"testPassword\"})\n"
      ],
      "metadata": {
        "id": "lnlr7BK52KMt",
        "colab": {
          "base_uri": "https://localhost:8080/"
        },
        "outputId": "e2cd2337-a969-4711-a0a7-fe1c99b5765c"
      },
      "execution_count": null,
      "outputs": [
        {
          "output_type": "stream",
          "name": "stdout",
          "text": [
            "AUC para Modelo 2: 0.8565323565323567\n"
          ]
        }
      ]
    },
    {
      "cell_type": "markdown",
      "source": [
        "Basado en los resultados de ambos modelos, podemos observar que, utilizando el metodo de AUC, el modelo 1 correspondiente a Logisitic Regression es mas preciso que el modelo 2 RandomForestClassifier. Obteniendo el primero un 88.4 % de preciosion sobre un 85.6% para el segundo."
      ],
      "metadata": {
        "id": "Ziu84f3KBX65"
      }
    }
  ]
}